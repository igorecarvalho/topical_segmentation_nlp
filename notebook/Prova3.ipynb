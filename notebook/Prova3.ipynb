{
 "cells": [
  {
   "cell_type": "code",
   "execution_count": 1,
   "metadata": {},
   "outputs": [
    {
     "name": "stderr",
     "output_type": "stream",
     "text": [
      "/usr/local/lib/python3.5/dist-packages/sklearn/externals/joblib/__init__.py:15: DeprecationWarning: sklearn.externals.joblib is deprecated in 0.21 and will be removed in 0.23. Please import this functionality directly from joblib, which can be installed with: pip install joblib. If this warning is raised when loading pickled models, you may need to re-serialize those models with scikit-learn 0.21+.\n",
      "  warnings.warn(msg, category=DeprecationWarning)\n"
     ]
    }
   ],
   "source": [
    "#importação das bibliotecas criadas para normalização dos dados\n",
    "from nlputils import lexical\n",
    "from nlputils import semantics"
   ]
  },
  {
   "cell_type": "code",
   "execution_count": 2,
   "metadata": {},
   "outputs": [],
   "source": [
    "#chamada da bibioteca de preprocessamento\n",
    "lexical_normalizer = lexical.Preprocessing()\n",
    "#Semantics(path=\"trainset/\", trained_path=\"\", trainset=0.8, language='../models/pt_core_news_sm-2.1.0')\n",
    "semantics_normalizer = semantics.Semantics(path='../data/trainset/', trainset=0.8, language='../models/pt_core_news_sm-2.1.0')"
   ]
  },
  {
   "cell_type": "code",
   "execution_count": 3,
   "metadata": {},
   "outputs": [],
   "source": [
    "#criacao do data set de acordo com os parametros passados na criação da classe semantics\n",
    "dataset = semantics_normalizer.read_data()\n",
    "#criacao de um dataframe com base do dataset criando\n",
    "df_dataset = semantics_normalizer.create_pandas_df(dataset)"
   ]
  },
  {
   "cell_type": "code",
   "execution_count": 4,
   "metadata": {},
   "outputs": [
    {
     "data": {
      "text/plain": [
       "bin_polarity    67030\n",
       "polarity        67030\n",
       "review          67030\n",
       "set             67030\n",
       "dtype: int64"
      ]
     },
     "execution_count": 4,
     "metadata": {},
     "output_type": "execute_result"
    }
   ],
   "source": [
    "#Quantidade\tde\tcomentários;\n",
    "df_dataset.count()"
   ]
  },
  {
   "cell_type": "code",
   "execution_count": 5,
   "metadata": {},
   "outputs": [
    {
     "data": {
      "text/html": [
       "<div>\n",
       "<style scoped>\n",
       "    .dataframe tbody tr th:only-of-type {\n",
       "        vertical-align: middle;\n",
       "    }\n",
       "\n",
       "    .dataframe tbody tr th {\n",
       "        vertical-align: top;\n",
       "    }\n",
       "\n",
       "    .dataframe thead th {\n",
       "        text-align: right;\n",
       "    }\n",
       "</style>\n",
       "<table border=\"1\" class=\"dataframe\">\n",
       "  <thead>\n",
       "    <tr style=\"text-align: right;\">\n",
       "      <th></th>\n",
       "      <th>bin_polarity</th>\n",
       "      <th>review</th>\n",
       "      <th>set</th>\n",
       "    </tr>\n",
       "    <tr>\n",
       "      <th>polarity</th>\n",
       "      <th></th>\n",
       "      <th></th>\n",
       "      <th></th>\n",
       "    </tr>\n",
       "  </thead>\n",
       "  <tbody>\n",
       "    <tr>\n",
       "      <th>0.0</th>\n",
       "      <td>671</td>\n",
       "      <td>671</td>\n",
       "      <td>671</td>\n",
       "    </tr>\n",
       "    <tr>\n",
       "      <th>1.0</th>\n",
       "      <td>2396</td>\n",
       "      <td>2396</td>\n",
       "      <td>2396</td>\n",
       "    </tr>\n",
       "    <tr>\n",
       "      <th>2.0</th>\n",
       "      <td>2892</td>\n",
       "      <td>2892</td>\n",
       "      <td>2892</td>\n",
       "    </tr>\n",
       "    <tr>\n",
       "      <th>3.0</th>\n",
       "      <td>8937</td>\n",
       "      <td>8937</td>\n",
       "      <td>8937</td>\n",
       "    </tr>\n",
       "    <tr>\n",
       "      <th>4.0</th>\n",
       "      <td>25778</td>\n",
       "      <td>25778</td>\n",
       "      <td>25778</td>\n",
       "    </tr>\n",
       "    <tr>\n",
       "      <th>5.0</th>\n",
       "      <td>26356</td>\n",
       "      <td>26356</td>\n",
       "      <td>26356</td>\n",
       "    </tr>\n",
       "  </tbody>\n",
       "</table>\n",
       "</div>"
      ],
      "text/plain": [
       "          bin_polarity  review    set\n",
       "polarity                             \n",
       "0.0                671     671    671\n",
       "1.0               2396    2396   2396\n",
       "2.0               2892    2892   2892\n",
       "3.0               8937    8937   8937\n",
       "4.0              25778   25778  25778\n",
       "5.0              26356   26356  26356"
      ]
     },
     "execution_count": 5,
     "metadata": {},
     "output_type": "execute_result"
    }
   ],
   "source": [
    "#Quantidade de comentários por score\n",
    "df_dataset.groupby('polarity').count()"
   ]
  },
  {
   "cell_type": "code",
   "execution_count": 6,
   "metadata": {},
   "outputs": [],
   "source": [
    "#criar dicionario com as sentencas\n",
    "sentence_dataset = []\n",
    "for review in dataset['review']:\n",
    "    review_line = lexical_normalizer.tokenize_sentences(review)\n",
    "    for sentence in review_line:\n",
    "        sentence_dataset.append(sentence)"
   ]
  },
  {
   "cell_type": "code",
   "execution_count": 7,
   "metadata": {},
   "outputs": [
    {
     "data": {
      "text/plain": [
       "205171"
      ]
     },
     "execution_count": 7,
     "metadata": {},
     "output_type": "execute_result"
    }
   ],
   "source": [
    "#Quantidade de sentenças\n",
    "len(sentence_dataset)"
   ]
  },
  {
   "cell_type": "code",
   "execution_count": 8,
   "metadata": {},
   "outputs": [
    {
     "data": {
      "text/html": [
       "<div>\n",
       "<style scoped>\n",
       "    .dataframe tbody tr th:only-of-type {\n",
       "        vertical-align: middle;\n",
       "    }\n",
       "\n",
       "    .dataframe tbody tr th {\n",
       "        vertical-align: top;\n",
       "    }\n",
       "\n",
       "    .dataframe thead th {\n",
       "        text-align: right;\n",
       "    }\n",
       "</style>\n",
       "<table border=\"1\" class=\"dataframe\">\n",
       "  <thead>\n",
       "    <tr style=\"text-align: right;\">\n",
       "      <th></th>\n",
       "      <th>polarity</th>\n",
       "      <th>review</th>\n",
       "      <th>set</th>\n",
       "    </tr>\n",
       "    <tr>\n",
       "      <th>bin_polarity</th>\n",
       "      <th></th>\n",
       "      <th></th>\n",
       "      <th></th>\n",
       "    </tr>\n",
       "  </thead>\n",
       "  <tbody>\n",
       "    <tr>\n",
       "      <th>0</th>\n",
       "      <td>5959</td>\n",
       "      <td>5959</td>\n",
       "      <td>5959</td>\n",
       "    </tr>\n",
       "    <tr>\n",
       "      <th>1</th>\n",
       "      <td>61071</td>\n",
       "      <td>61071</td>\n",
       "      <td>61071</td>\n",
       "    </tr>\n",
       "  </tbody>\n",
       "</table>\n",
       "</div>"
      ],
      "text/plain": [
       "              polarity  review    set\n",
       "bin_polarity                         \n",
       "0                 5959    5959   5959\n",
       "1                61071   61071  61071"
      ]
     },
     "execution_count": 8,
     "metadata": {},
     "output_type": "execute_result"
    }
   ],
   "source": [
    "#Outras que podem subsidiar suas decisões de projeto\n",
    "#quantidade de comentários em polaridade binaria\n",
    "df_dataset.groupby('bin_polarity').count()"
   ]
  },
  {
   "cell_type": "code",
   "execution_count": 9,
   "metadata": {},
   "outputs": [],
   "source": [
    "#funcoes para salvar e carregar o modelo\n",
    "from sklearn.externals import joblib\n",
    "#salvar modelo\n",
    "def save_model(data):\n",
    "    joblib.dump(data, 'saved_model.pkl') \n",
    "#carregar modelo\n",
    "def load_model():\n",
    "    return joblib.load('saved_model.pkl')"
   ]
  },
  {
   "cell_type": "code",
   "execution_count": 10,
   "metadata": {},
   "outputs": [
    {
     "name": "stdout",
     "output_type": "stream",
     "text": [
      "tem trenado nao\n",
      "Trainning....\n"
     ]
    },
    {
     "name": "stderr",
     "output_type": "stream",
     "text": [
      "/usr/local/lib/python3.5/dist-packages/sklearn/linear_model/logistic.py:469: FutureWarning: Default multi_class will be changed to 'auto' in 0.22. Specify the multi_class option to silence this warning.\n",
      "  \"this warning.\", FutureWarning)\n",
      "[Parallel(n_jobs=4)]: Using backend LokyBackend with 4 concurrent workers.\n",
      "[Parallel(n_jobs=4)]: Done   6 out of   6 | elapsed:   16.5s remaining:    0.0s\n",
      "[Parallel(n_jobs=4)]: Done   6 out of   6 | elapsed:   16.5s finished\n"
     ]
    },
    {
     "name": "stdout",
     "output_type": "stream",
     "text": [
      "Finished !\n",
      "Precisão 56.1563\n",
      "[[  21    9    4   11   55   37]\n",
      " [   0  122   53   64  112  126]\n",
      " [   1   48   58  145  229   84]\n",
      " [   2   32   24  254 1111  289]\n",
      " [   0    5    6  173 3350 1664]\n",
      " [   3    4    3   32 1496 3652]]\n"
     ]
    }
   ],
   "source": [
    "import os\n",
    "#extrair modelo \n",
    "trained_model = None\n",
    "#carrega o modelo se existir\n",
    "if os.path.exists('saved_model.pkl'):\n",
    "    trained_model = load_model()\n",
    "else:\n",
    "    #treina o modelo\n",
    "    trained_model = semantics.Semantics(path='../data/trainset/', trainset=0.8, language='../models/pt_core_news_sm-2.1.0')\n",
    "    trained_model.train()\n",
    "    save_model(data=trained_model)"
   ]
  },
  {
   "cell_type": "code",
   "execution_count": 17,
   "metadata": {},
   "outputs": [
    {
     "data": {
      "text/plain": [
       "array([1.])"
      ]
     },
     "execution_count": 17,
     "metadata": {},
     "output_type": "execute_result"
    }
   ],
   "source": [
    "#receber uma string e retornar sua polaridade\n",
    "text = \"Essa geladeira é péssimo\"\n",
    "trained_model.sentiment_analysis(text)"
   ]
  },
  {
   "cell_type": "code",
   "execution_count": 12,
   "metadata": {},
   "outputs": [
    {
     "name": "stdout",
     "output_type": "stream",
     "text": [
      "v/v\t 0.0\t 1.0\t 2.0\t 3.0\t 4.0\t 5.0\n",
      "0.0\t 21\t 9\t 4\t 11\t 55\t 37\t\n",
      "1.0\t 0\t 122\t 53\t 64\t 112\t 126\t\n",
      "2.0\t 1\t 48\t 58\t 145\t 229\t 84\t\n",
      "3.0\t 2\t 32\t 24\t 254\t 1111\t 289\t\n",
      "4.0\t 0\t 5\t 6\t 173\t 3350\t 1664\t\n",
      "5.0\t 3\t 4\t 3\t 32\t 1496\t 3652\t\n"
     ]
    },
    {
     "data": {
      "text/plain": [
       "<nlputils.semantics.preprocessing.Semantics at 0x7faa3b0abe80>"
      ]
     },
     "execution_count": 12,
     "metadata": {},
     "output_type": "execute_result"
    }
   ],
   "source": [
    "#matriz de confusao\n",
    "trained_model.get_confusion_matrix()\n",
    "trained_model"
   ]
  }
 ],
 "metadata": {
  "kernelspec": {
   "display_name": "Python 3",
   "language": "python",
   "name": "python3"
  },
  "language_info": {
   "codemirror_mode": {
    "name": "ipython",
    "version": 3
   },
   "file_extension": ".py",
   "mimetype": "text/x-python",
   "name": "python",
   "nbconvert_exporter": "python",
   "pygments_lexer": "ipython3",
   "version": "3.7.4"
  }
 },
 "nbformat": 4,
 "nbformat_minor": 4
}
