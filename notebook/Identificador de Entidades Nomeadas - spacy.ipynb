{
 "cells": [
  {
   "cell_type": "code",
   "execution_count": 1,
   "metadata": {},
   "outputs": [],
   "source": [
    "import spacy"
   ]
  },
  {
   "cell_type": "markdown",
   "metadata": {},
   "source": [
    "## IDENTIFICANDO ENTIDADES NOMEADAS"
   ]
  },
  {
   "cell_type": "code",
   "execution_count": 7,
   "metadata": {},
   "outputs": [
    {
     "name": "stdout",
     "output_type": "stream",
     "text": [
      "CIUFLA 2 8 MISC\n",
      "UFLA 37 41 ORG\n"
     ]
    }
   ],
   "source": [
    "#identificando entidade nomeadas com spacy\n",
    "\n",
    "nlp = spacy.load('../models/pt_core_news_sm-2.1.0')\n",
    "#sentence = \"O Brasil possui bancos nacinais como: Banco do Brasil, Itaú, Bradesco. Estes bancos possuem milhões de cliente, como por exemplo: José da Silva\"\n",
    "#sentence = \"A Universidade Federal de Lavras (UFLA) localizada na cidade de Lavras, cidade próxima a Perdões, Ribeirão Vermlho e Itutinga - MG foi teve inicio com o nome de ESAL\"\n",
    "sentence = \"O CIUFLA é um evento que acontece na UFLA para que os alunos com projetos apresentem suas pesquisas.\"\n",
    "doc = nlp(sentence)\n",
    "for ent in doc.ents:\n",
    "    print(ent.text, ent.start_char, ent.end_char, ent.label_)"
   ]
  },
  {
   "cell_type": "markdown",
   "metadata": {},
   "source": [
    "## SETTANDO ENTIDADES NOMEADAS"
   ]
  },
  {
   "cell_type": "code",
   "execution_count": null,
   "metadata": {},
   "outputs": [],
   "source": [
    "from spacy.tokens import Span\n",
    "\n",
    "sentence = \"O CNPq é uma organização que financia e auxilia as pesquinas nas univerdadidades brasileiras.\"\n",
    "doc = nlp(sentence)\n",
    "\n",
    "#cria uma lista com somente as entidades nomeadas reconhecidads\n",
    "ents = [(e.text, e.start_char, e.end_char, e.label_) for e in doc.ents]\n",
    "\n",
    "#bozo nao é reconhecido como presidente rs  abEIUEHIAUEH RS ou seja, uma entidade gorvenamental\n",
    "print(ents)"
   ]
  },
  {
   "cell_type": "code",
   "execution_count": null,
   "metadata": {},
   "outputs": [],
   "source": [
    "# get hash value of entity label\n",
    "ORG = doc.vocab.strings[u\"ORG\"]\n",
    "print(ORG)"
   ]
  },
  {
   "cell_type": "code",
   "execution_count": null,
   "metadata": {},
   "outputs": [],
   "source": [
    "# create a Span for the new entity\n",
    "#span(doc, inicio na sentenca, fim na sentenca, label(posicao da tag ORG no hash de entidades))\n",
    "bz_ent = Span(doc, 0, 1, label=ORG)\n",
    "\n",
    "#adicionando o nova entidade na lista de entidades do objeto doc\n",
    "doc.ents = list(doc.ents) + [bz_ent]\n",
    "\n",
    "#agora que a nova entidade foi criada e adicionada a lista, refaz a lista e imprime\n",
    "ents = [(e.text, e.start_char, e.end_char, e.label_) for e in doc.ents]\n",
    "print(ents)\n",
    "# [(u'FB', 0, 2, 'ORG')] 🎉"
   ]
  },
  {
   "cell_type": "markdown",
   "metadata": {},
   "source": [
    "## VISUALIZAÇÃO COM USO DO DISPLACY"
   ]
  },
  {
   "cell_type": "code",
   "execution_count": null,
   "metadata": {},
   "outputs": [],
   "source": [
    "#exibindo as entindade nomeadas com uso do displacy\n",
    "from spacy import displacy\n",
    "\n",
    "text = \"\"\"Mas o Google está começando por trás. A empresa fez um empurrão tardio\n",
    "em hardware, e Siri da Apple, disponível em iPhones e Alexa da Amazon\n",
    "software, que é executado em seus dispositivos Echo e Dot, tem leads claros em\n",
    "adoção pelo consumidor.\"\"\"\n",
    "\n",
    "doc = nlp(text)\n",
    "displacy.serve(doc, style=\"ent\")"
   ]
  },
  {
   "cell_type": "code",
   "execution_count": null,
   "metadata": {},
   "outputs": [],
   "source": [
    "#define a nova cor para a tag \"ORG\"\n",
    "colors = {\"ORG\": \"linear-gradient(90deg, #aa9cfc, #fc9ce7)\"}\n",
    "#sobreescreve a lista de options utilizando a nova cor de tag definida\n",
    "options = {\"ents\": [\"ORG\"], \"colors\": colors}\n",
    "displacy.serve(doc, style=\"ent\", options=options)"
   ]
  },
  {
   "cell_type": "code",
   "execution_count": null,
   "metadata": {},
   "outputs": [],
   "source": []
  }
 ],
 "metadata": {
  "kernelspec": {
   "display_name": "Python 3",
   "language": "python",
   "name": "python3"
  },
  "language_info": {
   "codemirror_mode": {
    "name": "ipython",
    "version": 3
   },
   "file_extension": ".py",
   "mimetype": "text/x-python",
   "name": "python",
   "nbconvert_exporter": "python",
   "pygments_lexer": "ipython3",
   "version": "3.5.2"
  }
 },
 "nbformat": 4,
 "nbformat_minor": 2
}
