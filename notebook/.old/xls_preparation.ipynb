{
 "cells": [
  {
   "cell_type": "code",
   "execution_count": 1,
   "metadata": {},
   "outputs": [],
   "source": [
    "import os\n",
    "corpora_path = '../data/corpora/CSTNews 6.0'\n",
    "corpora_dirs = os.listdir(corpora_path)\n",
    "corpora_dirs = [d for d in corpora_dirs if d not in '.DS_Store']\n",
    "corpora_dirs.remove('For all the clusters')"
   ]
  },
  {
   "cell_type": "code",
   "execution_count": 2,
   "metadata": {},
   "outputs": [],
   "source": [
    "news = {}\n",
    "for news_name in corpora_dirs:\n",
    "    noticias = os.listdir(corpora_path + '/' + news_name + '/Textos-fonte')\n",
    "    news[news_name] = {}\n",
    "    for file_title in noticias:\n",
    "        if '_titulo' not in file_title:\n",
    "            news[news_name][file_title] = {'Texto' : [], 'Segmentação' : [], 'Tópico (Rotule apenas Inicio)' : []}\n",
    "            file = corpora_path + '/' + news_name + '/Textos-fonte/' + file_title\n",
    "            with open(file, 'r', encoding='utf-8') as text_file:\n",
    "                lines = text_file.readlines()\n",
    "                for line in lines:\n",
    "                    if line != '\\n':\n",
    "                        news[news_name][file_title]['Texto'].append(line)\n",
    "                        news[news_name][file_title]['Segmentação'].append('')\n",
    "                        news[news_name][file_title]['Tópico (Rotule apenas Inicio)'].append('')"
   ]
  },
  {
   "cell_type": "code",
   "execution_count": 3,
   "metadata": {},
   "outputs": [
    {
     "data": {
      "text/plain": [
       "['Quase metade dos vôos previstos para decolar na manhã desta terça-feira (24) no Aeroporto de Congonhas, na Zona Sul de São Paulo, foi cancelada, de acordo com informações da Infraero. Das 39 decolagens previstas entre as 6h e as 8h, 19 sofreram cancelamentos ou o equivalente a 48,7% do total. \\n',\n",
       " 'A TAM anunciou o cancelamento de 68 vôos nesta terça (24) e o remanejamento de outros 22. Dos vôos cancelados, 8 passariam pelo Paraná. Dois vôos que sairiam de Curitiba para Congonhas foram remanejados para Guarulhos.\\n',\n",
       " 'A pista auxilar de Congonhas abriu às 6h, apenas para decolagens. A pista principal está fechada há uma semana, desde o acidente com o vôo 3054 da TAM. \\n',\n",
       " 'Oito pousos que deveriam ocorrer entre as 6h e as 8h foram alternados para o Aeroporto Internacional de Cumbica, em Guarulhos, zona metropolitana de São Paulo.\\n',\n",
       " 'Cumbica opera por instrumentos desde as 7h15, por causa da visibilidade ruim. Das 48 partidas previstas entre a meia-noite e as 8h, quatro partiram com atraso. Segundo a Infraero, nenhuma foi cancelada.\\n',\n",
       " 'Na segunda-feira (23), a chuva que atingiu a cidade provocou o fechamento da pista auxiliar de Congonhas por quatro vezes, três delas entre as 10h25 e as 13h17. Os saguões e corredores ficaram lotados. Passageiros ficaram indignados.\\n',\n",
       " 'Por causa da chuva durante todo o dia, vários aviões foram desviados para outros aeroportos, pois os pilotos não quiseram arriscar o pouso em Congonhas.\\n',\n",
       " 'Uma chuva fina atinge pontos isolados da cidade esta manhã, de acordo com o Centro de Gerenciamento de Emergências (CGE). A previsão é que a chuva persista e se intensifique ao longo do dia. \\n']"
      ]
     },
     "execution_count": 3,
     "metadata": {},
     "output_type": "execute_result"
    }
   ],
   "source": [
    "#news[nome da noticia][noticia da fonte][texto]\n",
    "news['C22_Cotidiano_DeslizamentoCongonhas']['D5_C22_GPovo_24-07-2007_08h51.txt']['Texto']"
   ]
  },
  {
   "cell_type": "code",
   "execution_count": 16,
   "metadata": {},
   "outputs": [],
   "source": [
    "import pandas as pd\n",
    "\n",
    "for new in news:\n",
    "    #nome da planilha\n",
    "    name = '../topicos_xls/' + new[0:3] + '.xlsx'\n",
    "    #criando um objeto writer do excel\n",
    "    writer = pd.ExcelWriter(name, engine='xlsxwriter')\n",
    "    #contador de numero de paginas da planilha\n",
    "    num = 1\n",
    "    for newspaper in news[new]:\n",
    "        #criando um dataframe para a noticia no dicionario\n",
    "        df = pd.DataFrame(news[new][newspaper], columns=['Texto','Segmentação','Tópico (Rotule apenas Inicio)'])\n",
    "        #nome da pagina da planilha\n",
    "        sname = (new[0:3] + '.' + str(num)).replace('_', '')\n",
    "        #criando a nova pagina na planilha\n",
    "        df.to_excel(writer, index=False, sheet_name=sname)\n",
    "        \n",
    "        #inicializando o workbook e setando qual pagina da planilha sera trabalhada\n",
    "        workbook  = writer.book\n",
    "        worksheet = writer.sheets[sname]        \n",
    "        \n",
    "        #formatacao para as colunas\n",
    "        formatA = workbook.add_format({'text_wrap': True,\n",
    "                                      'font_color': '#000000',\n",
    "                                      'font_size' : 10,\n",
    "                                      'bold': False,\n",
    "                                      'valign': 'justify'})\n",
    "\n",
    "        #formatacao da coluna (coluna, largura, tipo fortacao)\n",
    "        worksheet.set_column('A:A', 70, formatA)\n",
    "        worksheet.set_column('B:B', 15, formatA)\n",
    "        worksheet.set_column('C:C', 30, formatA)        \n",
    "        \n",
    "        #criando uma formatacao para a linha de cabecalho\n",
    "        header_format = workbook.add_format({\n",
    "            'bold': True,\n",
    "            'text_wrap': True,\n",
    "            'valign': 'center',\n",
    "            'valign': 'vcenter',\n",
    "            'fg_color': '#1E90FF',\n",
    "            'font_color': '#F8F8FF',\n",
    "            'border': 1})\n",
    "        \n",
    "        #escrevendo o cabeçalho na primeira linha de cada caluna\n",
    "        for col_num, value in enumerate(df.columns.values):\n",
    "            worksheet.write(0, col_num, value, header_format)\n",
    "        \n",
    "        num = num+1\n",
    "        \n",
    "    writer.save()"
   ]
  },
  {
   "cell_type": "code",
   "execution_count": null,
   "metadata": {},
   "outputs": [],
   "source": []
  }
 ],
 "metadata": {
  "kernelspec": {
   "display_name": "Python 3",
   "language": "python",
   "name": "python3"
  },
  "language_info": {
   "codemirror_mode": {
    "name": "ipython",
    "version": 3
   },
   "file_extension": ".py",
   "mimetype": "text/x-python",
   "name": "python",
   "nbconvert_exporter": "python",
   "pygments_lexer": "ipython3",
   "version": "3.7.4"
  }
 },
 "nbformat": 4,
 "nbformat_minor": 4
}
